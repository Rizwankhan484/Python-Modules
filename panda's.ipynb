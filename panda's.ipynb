{
 "cells": [
  {
   "cell_type": "markdown",
   "id": "47d0f3db",
   "metadata": {},
   "source": [
    "# Pandas"
   ]
  },
  {
   "cell_type": "code",
   "execution_count": 3,
   "id": "4b260ea6",
   "metadata": {
    "scrolled": true
   },
   "outputs": [
    {
     "name": "stdout",
     "output_type": "stream",
     "text": [
      "     name  marks\n",
      "0  kamran     23\n",
      "1  rizwan     21\n",
      "2   adnan     24\n"
     ]
    }
   ],
   "source": [
    "import pandas\n",
    "a={\n",
    "    \"name\":['kamran','rizwan','adnan'],\n",
    "    \"marks\":[23,21,24]    \n",
    "}\n",
    "\n",
    "b=pandas.DataFrame(a)\n",
    "print(b)"
   ]
  },
  {
   "cell_type": "code",
   "execution_count": 4,
   "id": "8cd46510",
   "metadata": {
    "scrolled": false
   },
   "outputs": [
    {
     "name": "stdout",
     "output_type": "stream",
     "text": [
      "     name  marks\n",
      "0  kamran     23\n",
      "1  rizwan     21\n",
      "2   adnan     24\n"
     ]
    }
   ],
   "source": [
    "import pandas as khan\n",
    "a={\n",
    "    \"name\":['kamran','rizwan','adnan'],\n",
    "    \"marks\":[23,21,24]    \n",
    "}\n",
    "\n",
    "b=khan.DataFrame(a)\n",
    "print(b)"
   ]
  },
  {
   "cell_type": "code",
   "execution_count": 27,
   "id": "9cdcf7c2",
   "metadata": {
    "scrolled": false
   },
   "outputs": [
    {
     "name": "stdout",
     "output_type": "stream",
     "text": [
      "  colour  price\n",
      "1    red   1200\n",
      "2   blue   1000\n"
     ]
    }
   ],
   "source": [
    "import pandas as jan\n",
    "s={\n",
    "    \"colour\":[\"red\",\"blue\"],\n",
    "    \"price\":[1200,1000]\n",
    "}\n",
    "q=jan.DataFrame(s,index=[1,2])\n",
    "print(q)"
   ]
  },
  {
   "cell_type": "code",
   "execution_count": 60,
   "id": "c55ac99f",
   "metadata": {},
   "outputs": [
    {
     "name": "stdout",
     "output_type": "stream",
     "text": [
      "  colour  price\n",
      "1    red   1200\n",
      "2   blue   1000              \n",
      "A   red  1200\n",
      "B  blue  1000\n"
     ]
    }
   ],
   "source": [
    "import pandas as jan\n",
    "s={\n",
    "    \"colour\":[\"red\",\"blue\"],\n",
    "    \"price\":[1200,1000]\n",
    "}\n",
    "a={\n",
    "    \" \":[\"red\",\"blue\"],\n",
    "    \"\":[1200,1000]\n",
    "}\n",
    "\n",
    "    \n",
    "b=jan.DataFrame(s,index=[1,2])\n",
    "c=jan.DataFrame(a,index=['A','B'])\n",
    "print(b,c)"
   ]
  },
  {
   "cell_type": "code",
   "execution_count": 5,
   "id": "b68ba09e",
   "metadata": {},
   "outputs": [
    {
     "name": "stdout",
     "output_type": "stream",
     "text": [
      "     Name  Class  Marks  position\n",
      "1  Rizwan     12    440         1\n",
      "2    Khan     11    340         3\n",
      "3    Shan     10    230         5\n",
      "4  Afridi      9    120         8\n"
     ]
    }
   ],
   "source": [
    "import pandas as khan\n",
    "q={\n",
    "    \"Name\":[\"Rizwan\",\"Khan\",\"Shan\",\"Afridi\"],\n",
    "    \"Class\":[12,11,10,9],\n",
    "    \"Marks\":[440,340,230,120],\n",
    "    \"position\":[1,3,5,8]\n",
    "    }\n",
    "a=khan.DataFrame(q,index=[1,2,3,4])\n",
    "\n",
    "print(a)"
   ]
  },
  {
   "cell_type": "code",
   "execution_count": 7,
   "id": "d4d2bb28",
   "metadata": {},
   "outputs": [
    {
     "name": "stdout",
     "output_type": "stream",
     "text": [
      "     Name  Class  Marks  position\n",
      "1  Rizwan     12    440         1\n",
      "2    Khan     11    340         3\n",
      "3    Shan     10    230         5\n",
      "4  Afridi      9    120         8\n"
     ]
    }
   ],
   "source": [
    "import pandas as khan\n",
    "q={\n",
    "    \"Name\":[\"Rizwan\",\"Khan\",\"Shan\",\"Afridi\"],\n",
    "    \"Class\":[12,11,10,9],\n",
    "    \"Marks\":[440,340,230,120],\n",
    "    \"position\":[1,3,5,8]\n",
    "    }\n",
    "a=khan.DataFrame(q,index=[1,2,3,4])\n",
    "\n",
    "\n",
    "print(a)"
   ]
  },
  {
   "cell_type": "code",
   "execution_count": 12,
   "id": "09f67c4d",
   "metadata": {},
   "outputs": [
    {
     "ename": "AttributeError",
     "evalue": "module 'pandas' has no attribute 'loc'",
     "output_type": "error",
     "traceback": [
      "\u001b[1;31m---------------------------------------------------------------------------\u001b[0m",
      "\u001b[1;31mAttributeError\u001b[0m                            Traceback (most recent call last)",
      "Cell \u001b[1;32mIn[12], line 1\u001b[0m\n\u001b[1;32m----> 1\u001b[0m \u001b[38;5;28mprint\u001b[39m(khan\u001b[38;5;241m.\u001b[39mloc[\u001b[38;5;241m0\u001b[39m])\n",
      "File \u001b[1;32mC:\\ProgramData\\anaconda3\\Lib\\site-packages\\pandas\\__init__.py:264\u001b[0m, in \u001b[0;36m__getattr__\u001b[1;34m(name)\u001b[0m\n\u001b[0;32m    260\u001b[0m     \u001b[38;5;28;01mfrom\u001b[39;00m \u001b[38;5;21;01mpandas\u001b[39;00m\u001b[38;5;21;01m.\u001b[39;00m\u001b[38;5;21;01mcore\u001b[39;00m\u001b[38;5;21;01m.\u001b[39;00m\u001b[38;5;21;01marrays\u001b[39;00m\u001b[38;5;21;01m.\u001b[39;00m\u001b[38;5;21;01msparse\u001b[39;00m \u001b[38;5;28;01mimport\u001b[39;00m SparseArray \u001b[38;5;28;01mas\u001b[39;00m _SparseArray\n\u001b[0;32m    262\u001b[0m     \u001b[38;5;28;01mreturn\u001b[39;00m _SparseArray\n\u001b[1;32m--> 264\u001b[0m \u001b[38;5;28;01mraise\u001b[39;00m \u001b[38;5;167;01mAttributeError\u001b[39;00m(\u001b[38;5;124mf\u001b[39m\u001b[38;5;124m\"\u001b[39m\u001b[38;5;124mmodule \u001b[39m\u001b[38;5;124m'\u001b[39m\u001b[38;5;124mpandas\u001b[39m\u001b[38;5;124m'\u001b[39m\u001b[38;5;124m has no attribute \u001b[39m\u001b[38;5;124m'\u001b[39m\u001b[38;5;132;01m{\u001b[39;00mname\u001b[38;5;132;01m}\u001b[39;00m\u001b[38;5;124m'\u001b[39m\u001b[38;5;124m\"\u001b[39m)\n",
      "\u001b[1;31mAttributeError\u001b[0m: module 'pandas' has no attribute 'loc'"
     ]
    }
   ],
   "source": [
    "print(khan.loc[0])"
   ]
  },
  {
   "cell_type": "code",
   "execution_count": 15,
   "id": "1b7d7a96",
   "metadata": {},
   "outputs": [
    {
     "name": "stdout",
     "output_type": "stream",
     "text": [
      "rizwan\n"
     ]
    }
   ],
   "source": [
    "import pandas as khan\n",
    "a=[\"rizwan\",\"khan\",\"afridi\"]\n",
    "b=khan.Series(a)\n",
    "print(b[0])"
   ]
  },
  {
   "cell_type": "code",
   "execution_count": 38,
   "id": "5b572b6e",
   "metadata": {},
   "outputs": [
    {
     "name": "stdout",
     "output_type": "stream",
     "text": [
      "       Name  Class  position deptt       date\n",
      "0   Rizwan      11         1   cca  10/4/2023\n",
      "1      Khan     10         3    cs  10/4/2023\n",
      "2    Afridi      9         5   mba  10/4/2023\n",
      "3     Jamal      8         7   bba  10/4/2023\n",
      "4    afridi     13         9  arts  10/4/2023\n",
      "5   Rizwan      11        11   cca  10/4/2023\n",
      "6      Khan     11        13    cs  10/4/2023\n",
      "7    Afridi     11        15   mba  10/4/2023\n",
      "8     Jamal     11        17   bba  10/4/2023\n",
      "9    afridi     12        19  arts  10/4/2023\n",
      "10  Rizwan      12        21   cca  10/4/2023\n",
      "11     Khan     12        23    cs  10/4/2023\n",
      "12   Afridi     12        25   mba  10/4/2023\n",
      "13    Jamal     12        27   bba  10/4/2023\n",
      "14   afridi     13        29  arts  10/4/2023\n",
      "15  Rizwan      13        31   cca  10/4/2023\n",
      "16     Khan     13        33    cs  10/4/2023\n",
      "17   Afridi     13        35   mba  10/4/2023\n",
      "18    Jamal     13        37   bba  10/4/2023\n",
      "19   afridi     14        39  arts  10/4/2023\n",
      "20  Rizwan      14        41   cca  10/4/2023\n",
      "21     Khan     14        43    cs  10/4/2023\n",
      "22   Afridi     14        45   mba  10/4/2023\n",
      "23    Jamal     14        47   bba  10/4/2023\n",
      "24   afridi     15        49  arts  10/4/2023\n",
      "25  Rizwan      15        51   cca  10/4/2023\n",
      "26     Khan     15        53    cs  10/4/2023\n",
      "27   Afridi     15         1   mba  10/4/2023\n",
      "28    Jamal     15        57   bba  10/4/2023\n",
      "29   afridi     16        59  arts  10/4/2023\n",
      "30  Rizwan      16        11   cca  10/4/2023\n",
      "31     Khan     16        63    cs  10/4/2023\n",
      "32   Afridi     16        65   mba  10/4/2023\n",
      "33    Jamal     16         1   bba  10/4/2023\n",
      "34   afridi     17        69  arts  10/4/2023\n",
      "35  Rizwan      17        71   cca  10/4/2023\n",
      "36     Khan     17        73    cs  10/4/2023\n",
      "37   Afridi     17        75   mba  10/4/2023\n",
      "38    Jamal     17        77   bba  10/4/2023\n",
      "39   afridi     18         1  arts  10/4/2023\n",
      "40  Rizwan      18         1   cca  10/4/2023\n",
      "41     Khan     18        83    cs  10/4/2023\n",
      "42   Afridi     18        85   mba  10/4/2023\n",
      "43    Jamal     18        87   bba  10/4/2023\n",
      "44   afridi     19        89  arts  10/4/2023\n",
      "45  Rizwan      19        91   cca  10/4/2023\n",
      "46     Khan     19        93    cs  10/4/2023\n",
      "47   Afridi     19        95   mba  10/4/2023\n",
      "48    Jamal     19        97   bba  10/4/2023\n"
     ]
    }
   ],
   "source": [
    "import pandas as good\n",
    "a=good.read_csv('khn.csv')\n",
    "print(a)"
   ]
  },
  {
   "cell_type": "code",
   "execution_count": 7,
   "id": "a71b9330",
   "metadata": {
    "scrolled": true
   },
   "outputs": [
    {
     "name": "stdout",
     "output_type": "stream",
     "text": [
      "      Name  Class  position deptt       date\n",
      "0  Rizwan      11         1   cca  10/4/2023\n",
      "1     Khan     10         3    cs  10/4/2023\n",
      "2   Afridi      9         5   mba  10/4/2023\n",
      "3    Jamal      8         7   bba  10/4/2023\n",
      "4   afridi     13         9  arts  10/4/2023\n"
     ]
    }
   ],
   "source": [
    "import pandas as good\n",
    "a=good.read_csv('khn.csv')\n",
    "print(a.head())"
   ]
  },
  {
   "cell_type": "code",
   "execution_count": 8,
   "id": "7c53e98e",
   "metadata": {
    "scrolled": true
   },
   "outputs": [
    {
     "name": "stdout",
     "output_type": "stream",
     "text": [
      "      Name  Class  position deptt       date\n",
      "0  Rizwan      11         1   cca  10/4/2023\n",
      "1     Khan     10         3    cs  10/4/2023\n",
      "2   Afridi      9         5   mba  10/4/2023\n",
      "3    Jamal      8         7   bba  10/4/2023\n",
      "4   afridi     13         9  arts  10/4/2023\n",
      "5  Rizwan      11        11   cca  10/4/2023\n",
      "6     Khan     11        13    cs  10/4/2023\n",
      "7   Afridi     11        15   mba  10/4/2023\n",
      "8    Jamal     11        17   bba  10/4/2023\n",
      "9   afridi     12        19  arts  10/4/2023\n"
     ]
    }
   ],
   "source": [
    "import pandas as good\n",
    "a=good.read_csv('khn.CSV')\n",
    "print(a.head(10))"
   ]
  },
  {
   "cell_type": "code",
   "execution_count": 9,
   "id": "9b3b3778",
   "metadata": {},
   "outputs": [
    {
     "name": "stdout",
     "output_type": "stream",
     "text": [
      "       Name  Class  position deptt       date\n",
      "44   afridi     19        89  arts  10/4/2023\n",
      "45  Rizwan      19        91   cca  10/4/2023\n",
      "46     Khan     19        93    cs  10/4/2023\n",
      "47   Afridi     19        95   mba  10/4/2023\n",
      "48    Jamal     19        97   bba  10/4/2023\n"
     ]
    }
   ],
   "source": [
    "import pandas as good\n",
    "a=good.read_csv('khn.CSV')\n",
    "print(a.tail())"
   ]
  },
  {
   "cell_type": "code",
   "execution_count": 10,
   "id": "b6938486",
   "metadata": {},
   "outputs": [
    {
     "name": "stdout",
     "output_type": "stream",
     "text": [
      "       Name  Class  position deptt       date\n",
      "39   afridi     18         1  arts  10/4/2023\n",
      "40  Rizwan      18         1   cca  10/4/2023\n",
      "41     Khan     18        83    cs  10/4/2023\n",
      "42   Afridi     18        85   mba  10/4/2023\n",
      "43    Jamal     18        87   bba  10/4/2023\n",
      "44   afridi     19        89  arts  10/4/2023\n",
      "45  Rizwan      19        91   cca  10/4/2023\n",
      "46     Khan     19        93    cs  10/4/2023\n",
      "47   Afridi     19        95   mba  10/4/2023\n",
      "48    Jamal     19        97   bba  10/4/2023\n"
     ]
    }
   ],
   "source": [
    "import pandas as good\n",
    "a=good.read_csv('khn.CSV')\n",
    "print(a.tail(10))"
   ]
  },
  {
   "cell_type": "code",
   "execution_count": 11,
   "id": "5897b3a4",
   "metadata": {},
   "outputs": [
    {
     "name": "stdout",
     "output_type": "stream",
     "text": [
      "      Name  Class  position deptt       date\n",
      "0  Rizwan      11         1   cca  10/4/2023\n",
      "1     Khan     10         3    cs  10/4/2023\n",
      "2   Afridi      9         5   mba  10/4/2023\n",
      "3    Jamal      8         7   bba  10/4/2023\n",
      "4   afridi     13         9  arts  10/4/2023\n",
      "5  Rizwan      11        11   cca  10/4/2023\n",
      "6     Khan     11        13    cs  10/4/2023\n",
      "7   Afridi     11        15   mba  10/4/2023\n",
      "8    Jamal     11        17   bba  10/4/2023\n",
      "9   afridi     12        19  arts  10/4/2023\n",
      "       Name  Class  position deptt       date\n",
      "39   afridi     18         1  arts  10/4/2023\n",
      "40  Rizwan      18         1   cca  10/4/2023\n",
      "41     Khan     18        83    cs  10/4/2023\n",
      "42   Afridi     18        85   mba  10/4/2023\n",
      "43    Jamal     18        87   bba  10/4/2023\n",
      "44   afridi     19        89  arts  10/4/2023\n",
      "45  Rizwan      19        91   cca  10/4/2023\n",
      "46     Khan     19        93    cs  10/4/2023\n",
      "47   Afridi     19        95   mba  10/4/2023\n",
      "48    Jamal     19        97   bba  10/4/2023\n"
     ]
    }
   ],
   "source": [
    "import pandas as good\n",
    "a=good.read_csv('khn.CSV')\n",
    "print(a.head(10))\n",
    "print(a.tail(10))"
   ]
  },
  {
   "cell_type": "code",
   "execution_count": 34,
   "id": "559f9664",
   "metadata": {},
   "outputs": [
    {
     "name": "stdout",
     "output_type": "stream",
     "text": [
      "<class 'pandas.core.frame.DataFrame'>\n",
      "RangeIndex: 49 entries, 0 to 48\n",
      "Data columns (total 5 columns):\n",
      " #   Column    Non-Null Count  Dtype \n",
      "---  ------    --------------  ----- \n",
      " 0   Name      49 non-null     object\n",
      " 1   Class     49 non-null     int64 \n",
      " 2   position  49 non-null     int64 \n",
      " 3   deptt     49 non-null     object\n",
      " 4   date      49 non-null     object\n",
      "dtypes: int64(2), object(3)\n",
      "memory usage: 2.0+ KB\n",
      "None\n"
     ]
    }
   ],
   "source": [
    "import pandas as good\n",
    "a=good.read_csv('khn.CSV')\n",
    "print(a.info())\n"
   ]
  },
  {
   "cell_type": "code",
   "execution_count": 35,
   "id": "fdb3c156",
   "metadata": {},
   "outputs": [
    {
     "data": {
      "text/plain": [
       "<Axes: >"
      ]
     },
     "execution_count": 35,
     "metadata": {},
     "output_type": "execute_result"
    },
    {
     "data": {
      "image/png": "[encoded data removed]",
      "text/plain": [
       "<Figure size 640x480 with 1 Axes>"
      ]
     },
     "metadata": {},
     "output_type": "display_data"
    }
   ],
   "source": [
    "a.plot()"
   ]
  },
  {
   "cell_type": "code",
   "execution_count": 36,
   "id": "d72bc700",
   "metadata": {},
   "outputs": [
    {
     "data": {
      "text/html": [
       "<div>\n",
       "<style scoped>\n",
       "    .dataframe tbody tr th:only-of-type {\n",
       "        vertical-align: middle;\n",
       "    }\n",
       "\n",
       "    .dataframe tbody tr th {\n",
       "        vertical-align: top;\n",
       "    }\n",
       "\n",
       "    .dataframe thead th {\n",
       "        text-align: right;\n",
       "    }\n",
       "</style>\n",
       "<table border=\"1\" class=\"dataframe\">\n",
       "  <thead>\n",
       "    <tr style=\"text-align: right;\">\n",
       "      <th></th>\n",
       "      <th>Class</th>\n",
       "      <th>position</th>\n",
       "    </tr>\n",
       "  </thead>\n",
       "  <tbody>\n",
       "    <tr>\n",
       "      <th>count</th>\n",
       "      <td>49.000000</td>\n",
       "      <td>49.000000</td>\n",
       "    </tr>\n",
       "    <tr>\n",
       "      <th>mean</th>\n",
       "      <td>14.591837</td>\n",
       "      <td>42.306122</td>\n",
       "    </tr>\n",
       "    <tr>\n",
       "      <th>std</th>\n",
       "      <td>2.907737</td>\n",
       "      <td>30.698944</td>\n",
       "    </tr>\n",
       "    <tr>\n",
       "      <th>min</th>\n",
       "      <td>8.000000</td>\n",
       "      <td>1.000000</td>\n",
       "    </tr>\n",
       "    <tr>\n",
       "      <th>25%</th>\n",
       "      <td>12.000000</td>\n",
       "      <td>15.000000</td>\n",
       "    </tr>\n",
       "    <tr>\n",
       "      <th>50%</th>\n",
       "      <td>15.000000</td>\n",
       "      <td>39.000000</td>\n",
       "    </tr>\n",
       "    <tr>\n",
       "      <th>75%</th>\n",
       "      <td>17.000000</td>\n",
       "      <td>69.000000</td>\n",
       "    </tr>\n",
       "    <tr>\n",
       "      <th>max</th>\n",
       "      <td>19.000000</td>\n",
       "      <td>97.000000</td>\n",
       "    </tr>\n",
       "  </tbody>\n",
       "</table>\n",
       "</div>"
      ],
      "text/plain": [
       "           Class   position\n",
       "count  49.000000  49.000000\n",
       "mean   14.591837  42.306122\n",
       "std     2.907737  30.698944\n",
       "min     8.000000   1.000000\n",
       "25%    12.000000  15.000000\n",
       "50%    15.000000  39.000000\n",
       "75%    17.000000  69.000000\n",
       "max    19.000000  97.000000"
      ]
     },
     "execution_count": 36,
     "metadata": {},
     "output_type": "execute_result"
    }
   ],
   "source": [
    "a.describe()"
   ]
  },
  {
   "cell_type": "code",
   "execution_count": 37,
   "id": "6478e597",
   "metadata": {},
   "outputs": [
    {
     "name": "stdout",
     "output_type": "stream",
     "text": [
      "       name   price  size quality\n",
      "0     pizza  1200.0    12       A\n",
      "1    burger  1000.0    11       B\n",
      "2     fries   200.0    13       C\n",
      "3    burger  1000.0    11       B\n",
      "4     steak   540.0    13       A\n",
      "5   afghani   600.0    11       C\n",
      "6     pizza  1200.0    12       A\n",
      "7       bbq     NaN    18       D\n",
      "8     roast  1000.0    17       E\n",
      "9       bbq   700.0    16       F\n",
      "10     fish   540.0    17       G\n",
      "11  chicken   200.0    15       F\n",
      "12    handi  2500.0    18       E\n",
      "13    fries  1000.0    17       G\n"
     ]
    }
   ],
   "source": [
    "import pandas as fine\n",
    "a=fine.read_csv('swat.csv')\n",
    "print(a)"
   ]
  },
  {
   "cell_type": "code",
   "execution_count": 38,
   "id": "3445d234",
   "metadata": {},
   "outputs": [
    {
     "name": "stdout",
     "output_type": "stream",
     "text": [
      "     name   price  size quality\n",
      "0   pizza  1200.0    12       A\n",
      "1  burger  1000.0    11       B\n",
      "2   fries   200.0    13       C\n",
      "3  burger  1000.0    11       B\n",
      "4   steak   540.0    13       A\n"
     ]
    }
   ],
   "source": [
    "print(a.head())"
   ]
  },
  {
   "cell_type": "code",
   "execution_count": 39,
   "id": "a0f03c66",
   "metadata": {},
   "outputs": [
    {
     "name": "stdout",
     "output_type": "stream",
     "text": [
      "<class 'pandas.core.frame.DataFrame'>\n",
      "RangeIndex: 14 entries, 0 to 13\n",
      "Data columns (total 4 columns):\n",
      " #   Column   Non-Null Count  Dtype  \n",
      "---  ------   --------------  -----  \n",
      " 0   name     14 non-null     object \n",
      " 1   price    13 non-null     float64\n",
      " 2   size     14 non-null     int64  \n",
      " 3   quality  14 non-null     object \n",
      "dtypes: float64(1), int64(1), object(2)\n",
      "memory usage: 580.0+ bytes\n",
      "None\n"
     ]
    }
   ],
   "source": [
    "print(a.info())"
   ]
  },
  {
   "cell_type": "code",
   "execution_count": 40,
   "id": "00243dd8",
   "metadata": {},
   "outputs": [
    {
     "name": "stdout",
     "output_type": "stream",
     "text": [
      "Axes(0.125,0.11;0.775x0.77)\n"
     ]
    },
    {
     "data": {
      "image/png": "[encoded data removed]",
      "text/plain": [
       "<Figure size 640x480 with 1 Axes>"
      ]
     },
     "metadata": {},
     "output_type": "display_data"
    }
   ],
   "source": [
    "print(a.plot())"
   ]
  },
  {
   "cell_type": "code",
   "execution_count": 41,
   "id": "6dbc3d2c",
   "metadata": {},
   "outputs": [
    {
     "data": {
      "text/html": [
       "<div>\n",
       "<style scoped>\n",
       "    .dataframe tbody tr th:only-of-type {\n",
       "        vertical-align: middle;\n",
       "    }\n",
       "\n",
       "    .dataframe tbody tr th {\n",
       "        vertical-align: top;\n",
       "    }\n",
       "\n",
       "    .dataframe thead th {\n",
       "        text-align: right;\n",
       "    }\n",
       "</style>\n",
       "<table border=\"1\" class=\"dataframe\">\n",
       "  <thead>\n",
       "    <tr style=\"text-align: right;\">\n",
       "      <th></th>\n",
       "      <th>price</th>\n",
       "      <th>size</th>\n",
       "    </tr>\n",
       "  </thead>\n",
       "  <tbody>\n",
       "    <tr>\n",
       "      <th>count</th>\n",
       "      <td>13.000000</td>\n",
       "      <td>14.000000</td>\n",
       "    </tr>\n",
       "    <tr>\n",
       "      <th>mean</th>\n",
       "      <td>898.461538</td>\n",
       "      <td>14.357143</td>\n",
       "    </tr>\n",
       "    <tr>\n",
       "      <th>std</th>\n",
       "      <td>588.017094</td>\n",
       "      <td>2.762584</td>\n",
       "    </tr>\n",
       "    <tr>\n",
       "      <th>min</th>\n",
       "      <td>200.000000</td>\n",
       "      <td>11.000000</td>\n",
       "    </tr>\n",
       "    <tr>\n",
       "      <th>25%</th>\n",
       "      <td>540.000000</td>\n",
       "      <td>12.000000</td>\n",
       "    </tr>\n",
       "    <tr>\n",
       "      <th>50%</th>\n",
       "      <td>1000.000000</td>\n",
       "      <td>14.000000</td>\n",
       "    </tr>\n",
       "    <tr>\n",
       "      <th>75%</th>\n",
       "      <td>1000.000000</td>\n",
       "      <td>17.000000</td>\n",
       "    </tr>\n",
       "    <tr>\n",
       "      <th>max</th>\n",
       "      <td>2500.000000</td>\n",
       "      <td>18.000000</td>\n",
       "    </tr>\n",
       "  </tbody>\n",
       "</table>\n",
       "</div>"
      ],
      "text/plain": [
       "             price       size\n",
       "count    13.000000  14.000000\n",
       "mean    898.461538  14.357143\n",
       "std     588.017094   2.762584\n",
       "min     200.000000  11.000000\n",
       "25%     540.000000  12.000000\n",
       "50%    1000.000000  14.000000\n",
       "75%    1000.000000  17.000000\n",
       "max    2500.000000  18.000000"
      ]
     },
     "execution_count": 41,
     "metadata": {},
     "output_type": "execute_result"
    }
   ],
   "source": [
    "a.describe()"
   ]
  },
  {
   "cell_type": "code",
   "execution_count": 42,
   "id": "c3b9c1d3",
   "metadata": {},
   "outputs": [
    {
     "data": {
      "text/plain": [
       "0     False\n",
       "1     False\n",
       "2     False\n",
       "3      True\n",
       "4     False\n",
       "5     False\n",
       "6      True\n",
       "7     False\n",
       "8     False\n",
       "9     False\n",
       "10    False\n",
       "11    False\n",
       "12    False\n",
       "13    False\n",
       "dtype: bool"
      ]
     },
     "execution_count": 42,
     "metadata": {},
     "output_type": "execute_result"
    }
   ],
   "source": [
    "a.duplicated()"
   ]
  },
  {
   "cell_type": "code",
   "execution_count": 43,
   "id": "03fcf263",
   "metadata": {},
   "outputs": [
    {
     "data": {
      "text/html": [
       "<div>\n",
       "<style scoped>\n",
       "    .dataframe tbody tr th:only-of-type {\n",
       "        vertical-align: middle;\n",
       "    }\n",
       "\n",
       "    .dataframe tbody tr th {\n",
       "        vertical-align: top;\n",
       "    }\n",
       "\n",
       "    .dataframe thead th {\n",
       "        text-align: right;\n",
       "    }\n",
       "</style>\n",
       "<table border=\"1\" class=\"dataframe\">\n",
       "  <thead>\n",
       "    <tr style=\"text-align: right;\">\n",
       "      <th></th>\n",
       "      <th>name</th>\n",
       "      <th>price</th>\n",
       "      <th>size</th>\n",
       "      <th>quality</th>\n",
       "    </tr>\n",
       "  </thead>\n",
       "  <tbody>\n",
       "    <tr>\n",
       "      <th>0</th>\n",
       "      <td>pizza</td>\n",
       "      <td>1200.0</td>\n",
       "      <td>12</td>\n",
       "      <td>A</td>\n",
       "    </tr>\n",
       "    <tr>\n",
       "      <th>1</th>\n",
       "      <td>burger</td>\n",
       "      <td>1000.0</td>\n",
       "      <td>11</td>\n",
       "      <td>B</td>\n",
       "    </tr>\n",
       "    <tr>\n",
       "      <th>2</th>\n",
       "      <td>fries</td>\n",
       "      <td>200.0</td>\n",
       "      <td>13</td>\n",
       "      <td>C</td>\n",
       "    </tr>\n",
       "    <tr>\n",
       "      <th>4</th>\n",
       "      <td>steak</td>\n",
       "      <td>540.0</td>\n",
       "      <td>13</td>\n",
       "      <td>A</td>\n",
       "    </tr>\n",
       "    <tr>\n",
       "      <th>5</th>\n",
       "      <td>afghani</td>\n",
       "      <td>600.0</td>\n",
       "      <td>11</td>\n",
       "      <td>C</td>\n",
       "    </tr>\n",
       "    <tr>\n",
       "      <th>7</th>\n",
       "      <td>bbq</td>\n",
       "      <td>NaN</td>\n",
       "      <td>18</td>\n",
       "      <td>D</td>\n",
       "    </tr>\n",
       "    <tr>\n",
       "      <th>8</th>\n",
       "      <td>roast</td>\n",
       "      <td>1000.0</td>\n",
       "      <td>17</td>\n",
       "      <td>E</td>\n",
       "    </tr>\n",
       "    <tr>\n",
       "      <th>9</th>\n",
       "      <td>bbq</td>\n",
       "      <td>700.0</td>\n",
       "      <td>16</td>\n",
       "      <td>F</td>\n",
       "    </tr>\n",
       "    <tr>\n",
       "      <th>10</th>\n",
       "      <td>fish</td>\n",
       "      <td>540.0</td>\n",
       "      <td>17</td>\n",
       "      <td>G</td>\n",
       "    </tr>\n",
       "    <tr>\n",
       "      <th>11</th>\n",
       "      <td>chicken</td>\n",
       "      <td>200.0</td>\n",
       "      <td>15</td>\n",
       "      <td>F</td>\n",
       "    </tr>\n",
       "    <tr>\n",
       "      <th>12</th>\n",
       "      <td>handi</td>\n",
       "      <td>2500.0</td>\n",
       "      <td>18</td>\n",
       "      <td>E</td>\n",
       "    </tr>\n",
       "    <tr>\n",
       "      <th>13</th>\n",
       "      <td>fries</td>\n",
       "      <td>1000.0</td>\n",
       "      <td>17</td>\n",
       "      <td>G</td>\n",
       "    </tr>\n",
       "  </tbody>\n",
       "</table>\n",
       "</div>"
      ],
      "text/plain": [
       "       name   price  size quality\n",
       "0     pizza  1200.0    12       A\n",
       "1    burger  1000.0    11       B\n",
       "2     fries   200.0    13       C\n",
       "4     steak   540.0    13       A\n",
       "5   afghani   600.0    11       C\n",
       "7       bbq     NaN    18       D\n",
       "8     roast  1000.0    17       E\n",
       "9       bbq   700.0    16       F\n",
       "10     fish   540.0    17       G\n",
       "11  chicken   200.0    15       F\n",
       "12    handi  2500.0    18       E\n",
       "13    fries  1000.0    17       G"
      ]
     },
     "execution_count": 43,
     "metadata": {},
     "output_type": "execute_result"
    }
   ],
   "source": [
    "a.drop_duplicates()"
   ]
  },
  {
   "cell_type": "code",
   "execution_count": 44,
   "id": "b8c5cac1",
   "metadata": {},
   "outputs": [
    {
     "data": {
      "text/plain": [
       "0     A\n",
       "1     B\n",
       "2     C\n",
       "3     B\n",
       "4     A\n",
       "5     C\n",
       "6     A\n",
       "7     D\n",
       "8     E\n",
       "9     F\n",
       "10    G\n",
       "11    F\n",
       "12    E\n",
       "13    G\n",
       "Name: quality, dtype: object"
      ]
     },
     "execution_count": 44,
     "metadata": {},
     "output_type": "execute_result"
    }
   ],
   "source": [
    "a['quality']"
   ]
  },
  {
   "cell_type": "code",
   "execution_count": 45,
   "id": "4dba3cae",
   "metadata": {},
   "outputs": [
    {
     "data": {
      "text/plain": [
       "0     1200.0\n",
       "1     1000.0\n",
       "2      200.0\n",
       "3     1000.0\n",
       "4      540.0\n",
       "5      600.0\n",
       "6     1200.0\n",
       "7        NaN\n",
       "8     1000.0\n",
       "9      700.0\n",
       "10     540.0\n",
       "11     200.0\n",
       "12    2500.0\n",
       "13    1000.0\n",
       "Name: price, dtype: float64"
      ]
     },
     "execution_count": 45,
     "metadata": {},
     "output_type": "execute_result"
    }
   ],
   "source": [
    "a['price']"
   ]
  },
  {
   "cell_type": "code",
   "execution_count": 46,
   "id": "bf3c985f",
   "metadata": {},
   "outputs": [
    {
     "data": {
      "text/html": [
       "<div>\n",
       "<style scoped>\n",
       "    .dataframe tbody tr th:only-of-type {\n",
       "        vertical-align: middle;\n",
       "    }\n",
       "\n",
       "    .dataframe tbody tr th {\n",
       "        vertical-align: top;\n",
       "    }\n",
       "\n",
       "    .dataframe thead th {\n",
       "        text-align: right;\n",
       "    }\n",
       "</style>\n",
       "<table border=\"1\" class=\"dataframe\">\n",
       "  <thead>\n",
       "    <tr style=\"text-align: right;\">\n",
       "      <th></th>\n",
       "      <th>name</th>\n",
       "      <th>price</th>\n",
       "    </tr>\n",
       "  </thead>\n",
       "  <tbody>\n",
       "    <tr>\n",
       "      <th>0</th>\n",
       "      <td>pizza</td>\n",
       "      <td>1200.0</td>\n",
       "    </tr>\n",
       "    <tr>\n",
       "      <th>1</th>\n",
       "      <td>burger</td>\n",
       "      <td>1000.0</td>\n",
       "    </tr>\n",
       "    <tr>\n",
       "      <th>2</th>\n",
       "      <td>fries</td>\n",
       "      <td>200.0</td>\n",
       "    </tr>\n",
       "    <tr>\n",
       "      <th>3</th>\n",
       "      <td>burger</td>\n",
       "      <td>1000.0</td>\n",
       "    </tr>\n",
       "    <tr>\n",
       "      <th>4</th>\n",
       "      <td>steak</td>\n",
       "      <td>540.0</td>\n",
       "    </tr>\n",
       "    <tr>\n",
       "      <th>5</th>\n",
       "      <td>afghani</td>\n",
       "      <td>600.0</td>\n",
       "    </tr>\n",
       "    <tr>\n",
       "      <th>6</th>\n",
       "      <td>pizza</td>\n",
       "      <td>1200.0</td>\n",
       "    </tr>\n",
       "    <tr>\n",
       "      <th>7</th>\n",
       "      <td>bbq</td>\n",
       "      <td>NaN</td>\n",
       "    </tr>\n",
       "    <tr>\n",
       "      <th>8</th>\n",
       "      <td>roast</td>\n",
       "      <td>1000.0</td>\n",
       "    </tr>\n",
       "    <tr>\n",
       "      <th>9</th>\n",
       "      <td>bbq</td>\n",
       "      <td>700.0</td>\n",
       "    </tr>\n",
       "    <tr>\n",
       "      <th>10</th>\n",
       "      <td>fish</td>\n",
       "      <td>540.0</td>\n",
       "    </tr>\n",
       "    <tr>\n",
       "      <th>11</th>\n",
       "      <td>chicken</td>\n",
       "      <td>200.0</td>\n",
       "    </tr>\n",
       "    <tr>\n",
       "      <th>12</th>\n",
       "      <td>handi</td>\n",
       "      <td>2500.0</td>\n",
       "    </tr>\n",
       "    <tr>\n",
       "      <th>13</th>\n",
       "      <td>fries</td>\n",
       "      <td>1000.0</td>\n",
       "    </tr>\n",
       "  </tbody>\n",
       "</table>\n",
       "</div>"
      ],
      "text/plain": [
       "       name   price\n",
       "0     pizza  1200.0\n",
       "1    burger  1000.0\n",
       "2     fries   200.0\n",
       "3    burger  1000.0\n",
       "4     steak   540.0\n",
       "5   afghani   600.0\n",
       "6     pizza  1200.0\n",
       "7       bbq     NaN\n",
       "8     roast  1000.0\n",
       "9       bbq   700.0\n",
       "10     fish   540.0\n",
       "11  chicken   200.0\n",
       "12    handi  2500.0\n",
       "13    fries  1000.0"
      ]
     },
     "execution_count": 46,
     "metadata": {},
     "output_type": "execute_result"
    }
   ],
   "source": [
    "a[['name','price']]"
   ]
  },
  {
   "cell_type": "code",
   "execution_count": 47,
   "id": "8ad0cc14",
   "metadata": {},
   "outputs": [
    {
     "data": {
      "text/plain": [
       "price    2500.0\n",
       "dtype: float64"
      ]
     },
     "execution_count": 47,
     "metadata": {},
     "output_type": "execute_result"
    }
   ],
   "source": [
    "a[['price']].max()"
   ]
  },
  {
   "cell_type": "code",
   "execution_count": 48,
   "id": "6b772ab5",
   "metadata": {},
   "outputs": [
    {
     "data": {
      "text/plain": [
       "price    200.0\n",
       "dtype: float64"
      ]
     },
     "execution_count": 48,
     "metadata": {},
     "output_type": "execute_result"
    }
   ],
   "source": [
    "a[['price']].min()"
   ]
  },
  {
   "cell_type": "code",
   "execution_count": 74,
   "id": "9b679ed2",
   "metadata": {},
   "outputs": [
    {
     "name": "stdout",
     "output_type": "stream",
     "text": [
      "       name   price  size quality\n",
      "0     pizza  1200.0    12       A\n",
      "1    burger  1000.0    11       B\n",
      "2     fries   200.0    13       C\n",
      "3    burger  1000.0    11       B\n",
      "4     steak   540.0    13       A\n",
      "5   afghani   600.0    11       C\n",
      "6     pizza  1200.0    12       A\n",
      "7       bbq  rizwan    18       D\n",
      "8     roast  1000.0    17       E\n",
      "9       bbq   700.0    16       F\n",
      "10     fish   540.0    17       G\n",
      "11  chicken   200.0    15       F\n",
      "12    handi  2500.0    18       E\n",
      "13    fries  1000.0    17       G\n"
     ]
    }
   ],
   "source": [
    "import pandas as fine\n",
    "a=fine.read_csv('swat.csv')\n",
    "a.fillna('rizwan', inplace = True)\n",
    "print(a)"
   ]
  },
  {
   "cell_type": "code",
   "execution_count": null,
   "id": "ad118463",
   "metadata": {},
   "outputs": [],
   "source": []
  }
 ],
 "metadata": {
  "kernelspec": {
   "display_name": "Python 3 (ipykernel)",
   "language": "python",
   "name": "python3"
  },
  "language_info": {
   "codemirror_mode": {
    "name": "ipython",
    "version": 3
   },
   "file_extension": ".py",
   "mimetype": "text/x-python",
   "name": "python",
   "nbconvert_exporter": "python",
   "pygments_lexer": "ipython3",
   "version": "3.11.4"
  }
 },
 "nbformat": 4,
 "nbformat_minor": 5
}
