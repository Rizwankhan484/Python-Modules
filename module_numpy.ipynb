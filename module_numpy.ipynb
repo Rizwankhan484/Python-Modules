{
 "cells": [
  {
   "cell_type": "code",
   "execution_count": 43,
   "id": "dd979b21",
   "metadata": {},
   "outputs": [
    {
     "name": "stdout",
     "output_type": "stream",
     "text": [
      "[1 3 2 4 6 5 7]\n"
     ]
    }
   ],
   "source": [
    "import numpy as khan\n",
    "a=khan.array([1,3,2,4,6,5,7])\n",
    "print(a)\n",
    "\n"
   ]
  },
  {
   "cell_type": "code",
   "execution_count": 44,
   "id": "3fb1c6e6",
   "metadata": {},
   "outputs": [
    {
     "data": {
      "text/plain": [
       "7"
      ]
     },
     "execution_count": 44,
     "metadata": {},
     "output_type": "execute_result"
    }
   ],
   "source": [
    "a.size"
   ]
  },
  {
   "cell_type": "code",
   "execution_count": 45,
   "id": "f4526ff7",
   "metadata": {},
   "outputs": [
    {
     "data": {
      "text/plain": [
       "4"
      ]
     },
     "execution_count": 45,
     "metadata": {},
     "output_type": "execute_result"
    }
   ],
   "source": [
    "a.itemsize"
   ]
  },
  {
   "cell_type": "code",
   "execution_count": 46,
   "id": "bcf8c7a7",
   "metadata": {},
   "outputs": [
    {
     "data": {
      "text/plain": [
       "1"
      ]
     },
     "execution_count": 46,
     "metadata": {},
     "output_type": "execute_result"
    }
   ],
   "source": [
    "a.min()"
   ]
  },
  {
   "cell_type": "code",
   "execution_count": 47,
   "id": "a41443df",
   "metadata": {},
   "outputs": [
    {
     "data": {
      "text/plain": [
       "7"
      ]
     },
     "execution_count": 47,
     "metadata": {},
     "output_type": "execute_result"
    }
   ],
   "source": [
    "a.max()"
   ]
  },
  {
   "cell_type": "code",
   "execution_count": 48,
   "id": "5a0bac65",
   "metadata": {},
   "outputs": [
    {
     "data": {
      "text/plain": [
       "1"
      ]
     },
     "execution_count": 48,
     "metadata": {},
     "output_type": "execute_result"
    }
   ],
   "source": [
    "a.ndim"
   ]
  },
  {
   "cell_type": "code",
   "execution_count": 49,
   "id": "21481a4f",
   "metadata": {},
   "outputs": [
    {
     "name": "stdout",
     "output_type": "stream",
     "text": [
      "1\n"
     ]
    }
   ],
   "source": [
    "print(a[0])"
   ]
  },
  {
   "cell_type": "code",
   "execution_count": 50,
   "id": "6c5c6af3",
   "metadata": {},
   "outputs": [
    {
     "name": "stdout",
     "output_type": "stream",
     "text": [
      "4\n"
     ]
    }
   ],
   "source": [
    "print(a[3])"
   ]
  },
  {
   "cell_type": "code",
   "execution_count": 51,
   "id": "341957ab",
   "metadata": {},
   "outputs": [
    {
     "data": {
      "text/plain": [
       "numpy.ndarray"
      ]
     },
     "execution_count": 51,
     "metadata": {},
     "output_type": "execute_result"
    }
   ],
   "source": [
    "type(a)"
   ]
  },
  {
   "cell_type": "code",
   "execution_count": 52,
   "id": "e7128c53",
   "metadata": {},
   "outputs": [
    {
     "data": {
      "text/plain": [
       "array([1, 2, 3, 4, 5, 6, 7])"
      ]
     },
     "execution_count": 52,
     "metadata": {},
     "output_type": "execute_result"
    }
   ],
   "source": [
    "np.sort(a)"
   ]
  },
  {
   "cell_type": "code",
   "execution_count": 53,
   "id": "2913b956",
   "metadata": {},
   "outputs": [
    {
     "name": "stdout",
     "output_type": "stream",
     "text": [
      "[[1 2 3 4]\n",
      " [5 6 7 8]]\n"
     ]
    }
   ],
   "source": [
    "import numpy as riz\n",
    "r=riz.array([[1,2,3,4],[5,6,7,8]])\n",
    "print(r)"
   ]
  },
  {
   "cell_type": "code",
   "execution_count": 54,
   "id": "178d5f33",
   "metadata": {},
   "outputs": [
    {
     "data": {
      "text/plain": [
       "numpy.ndarray"
      ]
     },
     "execution_count": 54,
     "metadata": {},
     "output_type": "execute_result"
    }
   ],
   "source": [
    "type(r)"
   ]
  },
  {
   "cell_type": "code",
   "execution_count": 41,
   "id": "dd66c970",
   "metadata": {},
   "outputs": [
    {
     "data": {
      "text/plain": [
       "2"
      ]
     },
     "execution_count": 41,
     "metadata": {},
     "output_type": "execute_result"
    }
   ],
   "source": [
    "r.ndim"
   ]
  },
  {
   "cell_type": "code",
   "execution_count": 42,
   "id": "88c1eae0",
   "metadata": {},
   "outputs": [
    {
     "name": "stdout",
     "output_type": "stream",
     "text": [
      "1\n"
     ]
    }
   ],
   "source": [
    "print(r[0,0])"
   ]
  },
  {
   "cell_type": "markdown",
   "id": "26cb8896",
   "metadata": {},
   "source": [
    "# Three Dim Array "
   ]
  },
  {
   "cell_type": "code",
   "execution_count": 85,
   "id": "f00b7ee8",
   "metadata": {},
   "outputs": [
    {
     "name": "stdout",
     "output_type": "stream",
     "text": [
      "[[[ 1  2  3  4  5]\n",
      "  [ 9  8  7  6 10]\n",
      "  [11 12 13 14 15]]]\n"
     ]
    }
   ],
   "source": [
    "import numpy as hhh\n",
    "a=hhh.array([[[1,2,3,4,5],[9,8,7,6,10],[11,12,13,14,15]]])\n",
    "print(a)"
   ]
  },
  {
   "cell_type": "code",
   "execution_count": 91,
   "id": "b0b0bc55",
   "metadata": {},
   "outputs": [
    {
     "name": "stdout",
     "output_type": "stream",
     "text": [
      "7\n"
     ]
    }
   ],
   "source": [
    "print(a[0,1,2])"
   ]
  },
  {
   "cell_type": "code",
   "execution_count": null,
   "id": "27d099d7",
   "metadata": {},
   "outputs": [],
   "source": []
  },
  {
   "cell_type": "code",
   "execution_count": 92,
   "id": "10f9a1b1",
   "metadata": {},
   "outputs": [
    {
     "data": {
      "text/plain": [
       "array([[[ 1,  2,  3,  4,  5],\n",
       "        [ 6,  7,  8,  9, 10],\n",
       "        [11, 12, 13, 14, 15]]])"
      ]
     },
     "execution_count": 92,
     "metadata": {},
     "output_type": "execute_result"
    }
   ],
   "source": [
    "hhh.sort(a)"
   ]
  },
  {
   "cell_type": "code",
   "execution_count": 93,
   "id": "97494f34",
   "metadata": {},
   "outputs": [
    {
     "data": {
      "text/plain": [
       "1"
      ]
     },
     "execution_count": 93,
     "metadata": {},
     "output_type": "execute_result"
    }
   ],
   "source": [
    "hhh.min(a)"
   ]
  },
  {
   "cell_type": "code",
   "execution_count": 95,
   "id": "bcf59c99",
   "metadata": {},
   "outputs": [
    {
     "data": {
      "text/plain": [
       "15"
      ]
     },
     "execution_count": 95,
     "metadata": {},
     "output_type": "execute_result"
    }
   ],
   "source": [
    "hhh.max(a)"
   ]
  },
  {
   "cell_type": "code",
   "execution_count": 99,
   "id": "a1ca39ef",
   "metadata": {},
   "outputs": [
    {
     "data": {
      "text/plain": [
       "15"
      ]
     },
     "execution_count": 99,
     "metadata": {},
     "output_type": "execute_result"
    }
   ],
   "source": [
    "a.max()"
   ]
  },
  {
   "cell_type": "code",
   "execution_count": 101,
   "id": "e5ff5924",
   "metadata": {},
   "outputs": [
    {
     "data": {
      "text/plain": [
       "15"
      ]
     },
     "execution_count": 101,
     "metadata": {},
     "output_type": "execute_result"
    }
   ],
   "source": [
    "a.size"
   ]
  },
  {
   "cell_type": "code",
   "execution_count": 102,
   "id": "e93173dc",
   "metadata": {},
   "outputs": [
    {
     "data": {
      "text/plain": [
       "4"
      ]
     },
     "execution_count": 102,
     "metadata": {},
     "output_type": "execute_result"
    }
   ],
   "source": [
    "a.itemsize"
   ]
  },
  {
   "cell_type": "code",
   "execution_count": 103,
   "id": "7f8e6597",
   "metadata": {},
   "outputs": [
    {
     "name": "stdout",
     "output_type": "stream",
     "text": [
      "[11.2 23.3 12.4]\n"
     ]
    }
   ],
   "source": [
    "import numpy as np\n",
    "a=np.array([11.2,23.3,12.4])\n",
    "print(a)"
   ]
  },
  {
   "cell_type": "code",
   "execution_count": 104,
   "id": "33f0ac85",
   "metadata": {},
   "outputs": [
    {
     "data": {
      "text/plain": [
       "8"
      ]
     },
     "execution_count": 104,
     "metadata": {},
     "output_type": "execute_result"
    }
   ],
   "source": [
    "a.itemsize"
   ]
  },
  {
   "cell_type": "code",
   "execution_count": 113,
   "id": "7aabaa3d",
   "metadata": {},
   "outputs": [
    {
     "name": "stdout",
     "output_type": "stream",
     "text": [
      "64\n",
      "32\n"
     ]
    }
   ],
   "source": [
    "a=8*8\n",
    "b=4*8\n",
    "print(a)\n",
    "print(b)"
   ]
  },
  {
   "cell_type": "code",
   "execution_count": 127,
   "id": "ff13a86d",
   "metadata": {},
   "outputs": [
    {
     "name": "stdout",
     "output_type": "stream",
     "text": [
      "['kam']\n"
     ]
    }
   ],
   "source": [
    "import numpy as np\n",
    "a=np.array([\"kam\"])\n",
    "print(a)"
   ]
  },
  {
   "cell_type": "code",
   "execution_count": 128,
   "id": "08b08327",
   "metadata": {},
   "outputs": [
    {
     "data": {
      "text/plain": [
       "12"
      ]
     },
     "execution_count": 128,
     "metadata": {},
     "output_type": "execute_result"
    }
   ],
   "source": [
    "a.itemsize"
   ]
  },
  {
   "cell_type": "code",
   "execution_count": 120,
   "id": "62607a7b",
   "metadata": {},
   "outputs": [
    {
     "name": "stdout",
     "output_type": "stream",
     "text": [
      "1073741824\n"
     ]
    }
   ],
   "source": [
    "a=1024*1024*1024\n",
    "print(a)"
   ]
  },
  {
   "cell_type": "code",
   "execution_count": 121,
   "id": "bb472b7e",
   "metadata": {},
   "outputs": [
    {
     "name": "stdout",
     "output_type": "stream",
     "text": [
      "134217728.0\n"
     ]
    }
   ],
   "source": [
    "c=a/8\n",
    "print(c)"
   ]
  },
  {
   "cell_type": "code",
   "execution_count": 122,
   "id": "68accfb3",
   "metadata": {},
   "outputs": [
    {
     "name": "stdout",
     "output_type": "stream",
     "text": [
      "1073741824.0\n"
     ]
    }
   ],
   "source": [
    "d=c*8\n",
    "print(d)"
   ]
  },
  {
   "cell_type": "markdown",
   "id": "533bb571",
   "metadata": {},
   "source": [
    "# Data Types String"
   ]
  },
  {
   "cell_type": "code",
   "execution_count": 3,
   "id": "249b8a01",
   "metadata": {},
   "outputs": [
    {
     "name": "stdout",
     "output_type": "stream",
     "text": [
      "['riz' 'kam' 'jam']\n"
     ]
    }
   ],
   "source": [
    "import numpy as k\n",
    "a=k.array([\"riz\",\"kam\",\"jam\"])\n",
    "print(a)"
   ]
  },
  {
   "cell_type": "code",
   "execution_count": 4,
   "id": "95e6d718",
   "metadata": {},
   "outputs": [
    {
     "data": {
      "text/plain": [
       "12"
      ]
     },
     "execution_count": 4,
     "metadata": {},
     "output_type": "execute_result"
    }
   ],
   "source": [
    "a.itemsize"
   ]
  },
  {
   "cell_type": "code",
   "execution_count": 5,
   "id": "a1d86388",
   "metadata": {},
   "outputs": [
    {
     "data": {
      "text/plain": [
       "<function ndarray.max>"
      ]
     },
     "execution_count": 5,
     "metadata": {},
     "output_type": "execute_result"
    }
   ],
   "source": [
    "a.max"
   ]
  },
  {
   "cell_type": "code",
   "execution_count": 6,
   "id": "311f4f6c",
   "metadata": {},
   "outputs": [
    {
     "data": {
      "text/plain": [
       "3"
      ]
     },
     "execution_count": 6,
     "metadata": {},
     "output_type": "execute_result"
    }
   ],
   "source": [
    "a.size"
   ]
  },
  {
   "cell_type": "code",
   "execution_count": 14,
   "id": "478ce062",
   "metadata": {},
   "outputs": [
    {
     "name": "stdout",
     "output_type": "stream",
     "text": [
      "kam\n"
     ]
    }
   ],
   "source": [
    "print(a[1])"
   ]
  },
  {
   "cell_type": "code",
   "execution_count": 13,
   "id": "ff60cf6e",
   "metadata": {},
   "outputs": [
    {
     "data": {
      "text/plain": [
       "1"
      ]
     },
     "execution_count": 13,
     "metadata": {},
     "output_type": "execute_result"
    }
   ],
   "source": [
    "a.ndim"
   ]
  },
  {
   "cell_type": "code",
   "execution_count": 16,
   "id": "c8f556ae",
   "metadata": {},
   "outputs": [
    {
     "data": {
      "text/plain": [
       "array(['jam', 'kam', 'riz'], dtype='<U3')"
      ]
     },
     "execution_count": 16,
     "metadata": {},
     "output_type": "execute_result"
    }
   ],
   "source": [
    "k.sort(a)"
   ]
  },
  {
   "cell_type": "code",
   "execution_count": 18,
   "id": "a2e6c7f8",
   "metadata": {},
   "outputs": [
    {
     "data": {
      "text/plain": [
       "numpy.ndarray"
      ]
     },
     "execution_count": 18,
     "metadata": {},
     "output_type": "execute_result"
    }
   ],
   "source": [
    "type(a)"
   ]
  },
  {
   "cell_type": "markdown",
   "id": "de227a99",
   "metadata": {},
   "source": [
    "# Data Types Float"
   ]
  },
  {
   "cell_type": "code",
   "execution_count": 20,
   "id": "07e2e77c",
   "metadata": {},
   "outputs": [
    {
     "name": "stdout",
     "output_type": "stream",
     "text": [
      "[1.2 2.1 3.5 5.4]\n"
     ]
    }
   ],
   "source": [
    "import numpy as per\n",
    "a=per.array([1.2,2.1,3.5,5.4])\n",
    "print(a)"
   ]
  },
  {
   "cell_type": "code",
   "execution_count": 21,
   "id": "b870b6cf",
   "metadata": {},
   "outputs": [
    {
     "data": {
      "text/plain": [
       "4"
      ]
     },
     "execution_count": 21,
     "metadata": {},
     "output_type": "execute_result"
    }
   ],
   "source": [
    "a.size"
   ]
  },
  {
   "cell_type": "code",
   "execution_count": 22,
   "id": "4e5259aa",
   "metadata": {},
   "outputs": [
    {
     "data": {
      "text/plain": [
       "8"
      ]
     },
     "execution_count": 22,
     "metadata": {},
     "output_type": "execute_result"
    }
   ],
   "source": [
    "a.itemsize"
   ]
  },
  {
   "cell_type": "code",
   "execution_count": 24,
   "id": "654fe905",
   "metadata": {},
   "outputs": [
    {
     "data": {
      "text/plain": [
       "array([1.2, 2.1, 3.5, 5.4])"
      ]
     },
     "execution_count": 24,
     "metadata": {},
     "output_type": "execute_result"
    }
   ],
   "source": [
    "per.sort(a)"
   ]
  },
  {
   "cell_type": "code",
   "execution_count": 26,
   "id": "b2d5c2bd",
   "metadata": {},
   "outputs": [
    {
     "data": {
      "text/plain": [
       "5.4"
      ]
     },
     "execution_count": 26,
     "metadata": {},
     "output_type": "execute_result"
    }
   ],
   "source": [
    "a.max()"
   ]
  },
  {
   "cell_type": "code",
   "execution_count": 27,
   "id": "2b808b90",
   "metadata": {},
   "outputs": [
    {
     "data": {
      "text/plain": [
       "1.2"
      ]
     },
     "execution_count": 27,
     "metadata": {},
     "output_type": "execute_result"
    }
   ],
   "source": [
    "a.min()"
   ]
  },
  {
   "cell_type": "markdown",
   "id": "fe16fb79",
   "metadata": {},
   "source": []
  },
  {
   "cell_type": "code",
   "execution_count": 30,
   "id": "85aa48f9",
   "metadata": {},
   "outputs": [
    {
     "name": "stdout",
     "output_type": "stream",
     "text": [
      "1.2\n"
     ]
    }
   ],
   "source": [
    "print(a[0])"
   ]
  },
  {
   "cell_type": "code",
   "execution_count": 31,
   "id": "2303204a",
   "metadata": {},
   "outputs": [
    {
     "name": "stdout",
     "output_type": "stream",
     "text": [
      "3.5\n"
     ]
    }
   ],
   "source": [
    "print(a[2])"
   ]
  },
  {
   "cell_type": "markdown",
   "id": "da21fb4d",
   "metadata": {},
   "source": [
    "# how to add numpy arr\n"
   ]
  },
  {
   "cell_type": "code",
   "execution_count": 54,
   "id": "90f4d1af",
   "metadata": {},
   "outputs": [
    {
     "name": "stdout",
     "output_type": "stream",
     "text": [
      "7\n"
     ]
    }
   ],
   "source": [
    "import numpy as ja\n",
    "a=ja.array([1,2,3,4,5,6,7,8,9])\n",
    "print(a[0]+a[1]+a[1]+a[1])"
   ]
  },
  {
   "cell_type": "code",
   "execution_count": 51,
   "id": "30e0ac9d",
   "metadata": {
    "scrolled": true
   },
   "outputs": [
    {
     "name": "stdout",
     "output_type": "stream",
     "text": [
      "1\n"
     ]
    }
   ],
   "source": [
    "print(a[3]-a[2])"
   ]
  },
  {
   "cell_type": "code",
   "execution_count": 52,
   "id": "3123a742",
   "metadata": {},
   "outputs": [
    {
     "name": "stdout",
     "output_type": "stream",
     "text": [
      "6\n"
     ]
    }
   ],
   "source": [
    "print(a[1]*a[2])"
   ]
  },
  {
   "cell_type": "code",
   "execution_count": 53,
   "id": "1c2e3772",
   "metadata": {
    "scrolled": true
   },
   "outputs": [
    {
     "name": "stdout",
     "output_type": "stream",
     "text": [
      "2.3333333333333335\n"
     ]
    }
   ],
   "source": [
    "print(a[6]/a[2])"
   ]
  },
  {
   "cell_type": "markdown",
   "id": "928ce606",
   "metadata": {},
   "source": [
    "# copy array in numpy"
   ]
  },
  {
   "cell_type": "code",
   "execution_count": 58,
   "id": "493aa0de",
   "metadata": {},
   "outputs": [
    {
     "name": "stdout",
     "output_type": "stream",
     "text": [
      "[1 2 3 4 5 6 7 8 9]\n"
     ]
    }
   ],
   "source": [
    "import numpy as swat\n",
    "khan=swat.array([1,2,3,4,5,6,7,8,9])\n",
    "print(khan)"
   ]
  },
  {
   "cell_type": "code",
   "execution_count": 59,
   "id": "5a49dc4d",
   "metadata": {},
   "outputs": [
    {
     "name": "stdout",
     "output_type": "stream",
     "text": [
      "[1 2 3 4 5 6 7 8 9]\n"
     ]
    }
   ],
   "source": [
    "import numpy as np\n",
    "k=khan.copy()\n",
    "print(k)"
   ]
  },
  {
   "cell_type": "code",
   "execution_count": 61,
   "id": "9eac263a",
   "metadata": {},
   "outputs": [
    {
     "name": "stdout",
     "output_type": "stream",
     "text": [
      "[1 2 3 4 5 6 7 8 9]\n",
      "[ 1  2  3  4 10  6  7  8  9]\n"
     ]
    }
   ],
   "source": [
    "import numpy as swat\n",
    "khan=swat.array([1,2,3,4,5,6,7,8,9])\n",
    "_copy=khan.copy()\n",
    "_copy[4]=10\n",
    "\n",
    "print(khan)\n",
    "print(_copy)"
   ]
  },
  {
   "cell_type": "code",
   "execution_count": 72,
   "id": "31b6c7cb",
   "metadata": {},
   "outputs": [
    {
     "name": "stdout",
     "output_type": "stream",
     "text": [
      "[8 7 6 5 4 3 2 1]\n",
      "[8 7 6 5 4 3 2 1]\n"
     ]
    }
   ],
   "source": [
    "import numpy as riz\n",
    "a=riz.array([8,7,6,5,4,3,2,1])\n",
    "p=a.copy()\n",
    "print(a)\n",
    "riz.sort(p)\n",
    "print(p)\n"
   ]
  },
  {
   "cell_type": "code",
   "execution_count": 73,
   "id": "b4b13e15",
   "metadata": {
    "scrolled": true
   },
   "outputs": [
    {
     "name": "stdout",
     "output_type": "stream",
     "text": [
      "[8 7 6 5 4 3 2 1]\n"
     ]
    }
   ],
   "source": [
    "riz.sort(p)\n",
    "print(p)"
   ]
  },
  {
   "cell_type": "markdown",
   "id": "f1ac7a5c",
   "metadata": {},
   "source": [
    "# view in numpy "
   ]
  },
  {
   "cell_type": "code",
   "execution_count": 63,
   "id": "3b174265",
   "metadata": {
    "scrolled": true
   },
   "outputs": [
    {
     "name": "stdout",
     "output_type": "stream",
     "text": [
      "[ 1  4  3  2 10  6  7  8]\n",
      "[ 1  4  3  2 10  6  7  8]\n"
     ]
    }
   ],
   "source": [
    "import numpy as rizwan\n",
    "a=rizwan.array([1,4,3,2,5,6,7,8])\n",
    "_view=a.view()\n",
    "_view[4]=10\n",
    "\n",
    "print(a)\n",
    "print(_view)\n",
    "\n"
   ]
  },
  {
   "cell_type": "code",
   "execution_count": 79,
   "id": "7a33a49b",
   "metadata": {},
   "outputs": [
    {
     "name": "stdout",
     "output_type": "stream",
     "text": [
      "[ 1  2 11 23  6  7  8]\n",
      "[ 1  2 11 23  6  7  8]\n"
     ]
    }
   ],
   "source": [
    "import numpy as fk\n",
    "a=fk.array([1,2,11,23,6,7,8])\n",
    "q=a.view()\n",
    "fk.sort(a)\n",
    "print(a)\n",
    "print(q)\n"
   ]
  },
  {
   "cell_type": "code",
   "execution_count": 76,
   "id": "6315cced",
   "metadata": {
    "scrolled": true
   },
   "outputs": [
    {
     "data": {
      "text/plain": [
       "array([ 1,  2,  6,  7,  8, 11, 23])"
      ]
     },
     "execution_count": 76,
     "metadata": {},
     "output_type": "execute_result"
    }
   ],
   "source": [
    "fk.sort(q)"
   ]
  },
  {
   "cell_type": "code",
   "execution_count": 77,
   "id": "78007ab3",
   "metadata": {
    "scrolled": true
   },
   "outputs": [
    {
     "name": "stdout",
     "output_type": "stream",
     "text": [
      "[ 1  2 11 23  6  7  8]\n",
      "[ 1  2 11 23  6  7  8]\n"
     ]
    }
   ],
   "source": [
    "print(a)\n",
    "print(q)"
   ]
  },
  {
   "cell_type": "markdown",
   "id": "5288c1b4",
   "metadata": {},
   "source": [
    "# shape and reshape"
   ]
  },
  {
   "cell_type": "code",
   "execution_count": 5,
   "id": "9d137951",
   "metadata": {},
   "outputs": [
    {
     "name": "stdout",
     "output_type": "stream",
     "text": [
      "(2, 3)\n"
     ]
    }
   ],
   "source": [
    "import numpy as khan\n",
    "a=khan.array([[1,2,3],[4,5,6]])\n",
    "\n",
    "print(khan.shape(a))\n"
   ]
  },
  {
   "cell_type": "code",
   "execution_count": 46,
   "id": "1076f722",
   "metadata": {},
   "outputs": [
    {
     "name": "stdout",
     "output_type": "stream",
     "text": [
      "(1, 3, 3)\n"
     ]
    }
   ],
   "source": [
    "import numpy as khan\n",
    "a=khan.array([[[1,2,3],[4,5,6],[6,7,8]]])\n",
    "\n",
    "print(khan.shape(a))\n"
   ]
  },
  {
   "cell_type": "code",
   "execution_count": 55,
   "id": "1589c9dc",
   "metadata": {},
   "outputs": [
    {
     "name": "stdout",
     "output_type": "stream",
     "text": [
      "[[[1 2]\n",
      "  [3 4]]\n",
      "\n",
      " [[5 6]\n",
      "  [4 5]]\n",
      "\n",
      " [[6 4]\n",
      "  [5 6]]]\n"
     ]
    }
   ],
   "source": [
    "import numpy as kha\n",
    "a=kha.array([1,2,3,4,5,6,4,5,6,4,5,6])\n",
    "newa=a.reshape(3,2,2)\n",
    "print(newa)\n"
   ]
  },
  {
   "cell_type": "code",
   "execution_count": 32,
   "id": "96746834",
   "metadata": {},
   "outputs": [
    {
     "name": "stdout",
     "output_type": "stream",
     "text": [
      "[[[ 1  2]\n",
      "  [ 3  4]]\n",
      "\n",
      " [[ 5  6]\n",
      "  [ 7  8]]\n",
      "\n",
      " [[ 9 10]\n",
      "  [11 12]]]\n"
     ]
    }
   ],
   "source": [
    "import numpy as khan\n",
    "a=khan.array([1,2,3,4,5,6,7,8,9,10,11,12])\n",
    "newa=a.reshape(3,2,2)\n",
    "print(newa)"
   ]
  },
  {
   "cell_type": "code",
   "execution_count": 34,
   "id": "6403f26a",
   "metadata": {},
   "outputs": [
    {
     "name": "stdout",
     "output_type": "stream",
     "text": [
      "[1 2 3 4 5 6 7 8]\n"
     ]
    }
   ],
   "source": [
    "import numpy as khan\n",
    "a1=khan.array([1,2,3,4])\n",
    "a2=khan.array([5,6,7,8])\n",
    "a=khan.concatenate((a1,a2))\n",
    "print(a)\n"
   ]
  },
  {
   "cell_type": "code",
   "execution_count": 48,
   "id": "cbc03a52",
   "metadata": {},
   "outputs": [
    {
     "name": "stdout",
     "output_type": "stream",
     "text": [
      "[[1 2 3 4 2 3 2 1 4 2]\n",
      " [1 2 3 4 4 5 4 3 2 1]]\n"
     ]
    }
   ],
   "source": [
    "import numpy as khan\n",
    "a1=khan.array([[1,2,3,4,2],[1,2,3,4,4]])\n",
    "a2=khan.array([[3,2,1,4,2],[5,4,3,2,1]])\n",
    "a=khan.concatenate((a1,a2), axis=1)\n",
    "print(a)\n"
   ]
  },
  {
   "cell_type": "code",
   "execution_count": 49,
   "id": "b1ea0056",
   "metadata": {},
   "outputs": [
    {
     "name": "stdout",
     "output_type": "stream",
     "text": [
      "[[[1 2 3 4 2]\n",
      "  [3 2 1 4 2]]\n",
      "\n",
      " [[1 2 3 4 4]\n",
      "  [5 4 3 2 1]]]\n"
     ]
    }
   ],
   "source": [
    "import numpy as khan\n",
    "a1=khan.array([[1,2,3,4,2],[1,2,3,4,4]])\n",
    "a2=khan.array([[3,2,1,4,2],[5,4,3,2,1]])\n",
    "a=khan.stack((a1,a2), axis=1)\n",
    "print(a)\n"
   ]
  },
  {
   "cell_type": "code",
   "execution_count": 51,
   "id": "95109256",
   "metadata": {},
   "outputs": [
    {
     "name": "stdout",
     "output_type": "stream",
     "text": [
      "[[1 2 3 4 2 3 2 1 4 2]\n",
      " [1 2 3 4 4 5 4 3 2 1]]\n"
     ]
    }
   ],
   "source": [
    "import numpy as khan\n",
    "a1=khan.array([[1,2,3,4,2],[1,2,3,4,4]])\n",
    "a2=khan.array([[3,2,1,4,2],[5,4,3,2,1]])\n",
    "a=khan.hstack((a1,a2))\n",
    "print(a)\n"
   ]
  },
  {
   "cell_type": "code",
   "execution_count": 54,
   "id": "ddebbd99",
   "metadata": {},
   "outputs": [
    {
     "name": "stdout",
     "output_type": "stream",
     "text": [
      "[[[1 3]\n",
      "  [2 2]\n",
      "  [3 1]\n",
      "  [4 4]\n",
      "  [2 2]]\n",
      "\n",
      " [[1 5]\n",
      "  [2 4]\n",
      "  [3 3]\n",
      "  [4 2]\n",
      "  [4 1]]]\n"
     ]
    }
   ],
   "source": [
    "import numpy as khan\n",
    "a1=khan.array([[1,2,3,4,2],[1,2,3,4,4]])\n",
    "a2=khan.array([[3,2,1,4,2],[5,4,3,2,1]])\n",
    "a=khan.dstack((a1,a2))\n",
    "print(a)\n"
   ]
  },
  {
   "cell_type": "markdown",
   "id": "23e18f4f",
   "metadata": {},
   "source": [
    "# practice"
   ]
  },
  {
   "cell_type": "code",
   "execution_count": 15,
   "id": "f60550be",
   "metadata": {},
   "outputs": [
    {
     "name": "stdout",
     "output_type": "stream",
     "text": [
      "[[[[ 1  2  3  4]\n",
      "   [ 4  3  2  1]\n",
      "   [ 8  7  6  5]\n",
      "   [11 12 13 14]]]]\n"
     ]
    }
   ],
   "source": [
    "import numpy as kh\n",
    "a=kh.array([[[[1,2,3,4],[4,3,2,1,],[8,7,6,5],[11,12,13,14]]]])\n",
    "print(a)"
   ]
  },
  {
   "cell_type": "code",
   "execution_count": 16,
   "id": "071ae49e",
   "metadata": {},
   "outputs": [
    {
     "data": {
      "text/plain": [
       "4"
      ]
     },
     "execution_count": 16,
     "metadata": {},
     "output_type": "execute_result"
    }
   ],
   "source": [
    "a.ndim"
   ]
  },
  {
   "cell_type": "code",
   "execution_count": 31,
   "id": "a8414fe0",
   "metadata": {},
   "outputs": [
    {
     "name": "stdout",
     "output_type": "stream",
     "text": [
      "[[[ 1  2  3  4]\n",
      "  [ 5  6  7  8]]\n",
      "\n",
      " [[ 9 10 11 12]\n",
      "  [13 14 15 16]]]\n"
     ]
    }
   ],
   "source": [
    "b=kh.array([1,2,3,4,5,6,7,8,9,10,11,12,13,14,15,16])\n",
    "w=b.reshape(2,2,4)\n",
    "print(w)"
   ]
  },
  {
   "cell_type": "code",
   "execution_count": 34,
   "id": "1b200fb8",
   "metadata": {},
   "outputs": [
    {
     "name": "stdout",
     "output_type": "stream",
     "text": [
      "[[[ 1  2  3  4]\n",
      "  [ 9 10 11 12]]\n",
      "\n",
      " [[ 5  6  7  8]\n",
      "  [13 14 15 16]]]\n"
     ]
    }
   ],
   "source": [
    "q=kh.stack((w),axis=1)\n",
    "print(q)"
   ]
  },
  {
   "cell_type": "code",
   "execution_count": 35,
   "id": "be95943c",
   "metadata": {},
   "outputs": [
    {
     "data": {
      "text/plain": [
       "numpy.ndarray"
      ]
     },
     "execution_count": 35,
     "metadata": {},
     "output_type": "execute_result"
    }
   ],
   "source": [
    "type(q)"
   ]
  },
  {
   "cell_type": "code",
   "execution_count": 36,
   "id": "56297a22",
   "metadata": {},
   "outputs": [
    {
     "data": {
      "text/plain": [
       "4"
      ]
     },
     "execution_count": 36,
     "metadata": {},
     "output_type": "execute_result"
    }
   ],
   "source": [
    "q.itemsize"
   ]
  },
  {
   "cell_type": "code",
   "execution_count": 37,
   "id": "fb734709",
   "metadata": {},
   "outputs": [
    {
     "data": {
      "text/plain": [
       "16"
      ]
     },
     "execution_count": 37,
     "metadata": {},
     "output_type": "execute_result"
    }
   ],
   "source": [
    "q.size"
   ]
  },
  {
   "cell_type": "code",
   "execution_count": 44,
   "id": "53f146f0",
   "metadata": {},
   "outputs": [
    {
     "name": "stdout",
     "output_type": "stream",
     "text": [
      "[ 1  2 10  4  5] [ 1  2 10  4  5]\n"
     ]
    }
   ],
   "source": [
    "import numpy as w\n",
    "s=w.array([1,2,3,4,5])\n",
    "swat=s.view()\n",
    "swat[2]=10\n",
    "print(s,swat)\n"
   ]
  },
  {
   "cell_type": "code",
   "execution_count": null,
   "id": "e2b32ecb",
   "metadata": {},
   "outputs": [],
   "source": []
  }
 ],
 "metadata": {
  "kernelspec": {
   "display_name": "Python 3 (ipykernel)",
   "language": "python",
   "name": "python3"
  },
  "language_info": {
   "codemirror_mode": {
    "name": "ipython",
    "version": 3
   },
   "file_extension": ".py",
   "mimetype": "text/x-python",
   "name": "python",
   "nbconvert_exporter": "python",
   "pygments_lexer": "ipython3",
   "version": "3.11.4"
  }
 },
 "nbformat": 4,
 "nbformat_minor": 5
}
